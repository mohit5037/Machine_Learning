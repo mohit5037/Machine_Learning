{
 "cells": [
  {
   "cell_type": "code",
   "execution_count": 1,
   "metadata": {
    "collapsed": false
   },
   "outputs": [],
   "source": [
    "from sklearn.ensemble import RandomForestClassifier\n",
    "from sklearn import linear_model\n",
    "from sklearn import cross_validation\n",
    "from numpy import genfromtxt, savetxt\n",
    "from sklearn.grid_search import GridSearchCV\n",
    "import logloss\n",
    "import numpy as np"
   ]
  },
  {
   "cell_type": "code",
   "execution_count": 2,
   "metadata": {
    "collapsed": false
   },
   "outputs": [],
   "source": [
    "\n",
    "#read in  data, parse into training and target sets\n",
    "dataset = np.genfromtxt(open('train.csv','r'), delimiter=',', dtype='f8')[1:]    \n",
    "target = np.array([x[0] for x in dataset])\n",
    "target[target == 0] = 0.1\n",
    "target[target == 1] = 0.9\n",
    "train = np.array([x[1:] for x in dataset])\n"
   ]
  },
  {
   "cell_type": "code",
   "execution_count": 3,
   "metadata": {
    "collapsed": false
   },
   "outputs": [
    {
     "data": {
      "text/plain": [
       "GridSearchCV(cv=None, error_score='raise',\n",
       "       estimator=LogisticRegression(C=1.0, class_weight=None, dual=False, fit_intercept=True,\n",
       "          intercept_scaling=1, max_iter=100, multi_class='ovr',\n",
       "          penalty='l2', random_state=None, solver='liblinear', tol=0.0001,\n",
       "          verbose=0),\n",
       "       fit_params={}, iid=True, loss_func=None, n_jobs=2,\n",
       "       param_grid={'C': array([ 0.01,  0.02,  0.03,  0.04,  0.05,  0.06,  0.07,  0.08,  0.09,  0.1 ])},\n",
       "       pre_dispatch='2*n_jobs', refit=True, score_func=None, scoring=None,\n",
       "       verbose=0)"
      ]
     },
     "execution_count": 3,
     "metadata": {},
     "output_type": "execute_result"
    }
   ],
   "source": [
    "# Making an object of logistic regression model\n",
    "logistic = linear_model.LogisticRegression()\n",
    "\n",
    "# Now in order to find C value we will do GridSearch\n",
    "# Range of values of C\n",
    "Cs = np.array(range(1,11),float)/100\n",
    "clf = GridSearchCV(estimator = logistic, param_grid=dict(C = Cs), n_jobs = 2)\n",
    "clf.fit(train,target)\n",
    "\n",
    "# Assigning best value of C found\n",
    "logistic.C = clf.best_estimator_.C\n",
    "logistic.fit(train,target)"
   ]
  },
  {
   "cell_type": "code",
   "execution_count": 5,
   "metadata": {
    "collapsed": true
   },
   "outputs": [],
   "source": [
    "# Reading the test set\n",
    "test = genfromtxt(open('test.csv','r'), delimiter=',', dtype='f8')[1:]"
   ]
  },
  {
   "cell_type": "code",
   "execution_count": 6,
   "metadata": {
    "collapsed": false
   },
   "outputs": [],
   "source": [
    "# Predicting the output\n",
    "predicted_probs = [[index + 1, x[1]] for index, x in enumerate(logistic.predict_proba(test))]"
   ]
  },
  {
   "cell_type": "code",
   "execution_count": 7,
   "metadata": {
    "collapsed": true
   },
   "outputs": [],
   "source": [
    "# saving the output\n",
    "savetxt('submission.csv', predicted_probs, delimiter=',', fmt='%d,%f',\n",
    "       header = 'MoleculeId,PredictedProbability', comments = '')"
   ]
  }
 ],
 "metadata": {
  "kernelspec": {
   "display_name": "Python 2",
   "language": "python",
   "name": "python2"
  },
  "language_info": {
   "codemirror_mode": {
    "name": "ipython",
    "version": 2
   },
   "file_extension": ".py",
   "mimetype": "text/x-python",
   "name": "python",
   "nbconvert_exporter": "python",
   "pygments_lexer": "ipython2",
   "version": "2.7.8"
  }
 },
 "nbformat": 4,
 "nbformat_minor": 0
}
