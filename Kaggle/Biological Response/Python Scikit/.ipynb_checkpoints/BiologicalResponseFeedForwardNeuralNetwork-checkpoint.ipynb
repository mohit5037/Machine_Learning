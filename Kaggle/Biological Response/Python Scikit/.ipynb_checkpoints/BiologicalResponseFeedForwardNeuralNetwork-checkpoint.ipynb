{
 "cells": [
  {
   "cell_type": "code",
   "execution_count": 1,
   "metadata": {
    "collapsed": true
   },
   "outputs": [],
   "source": [
    "%matplotlib inline \n",
    "import neurolab as nl\n",
    "import numpy as np"
   ]
  },
  {
   "cell_type": "code",
   "execution_count": 7,
   "metadata": {
    "collapsed": false
   },
   "outputs": [
    {
     "data": {
      "image/png": "[encoded data removed]",
      "text/plain": [
       "<matplotlib.figure.Figure at 0x1063e4fd0>"
      ]
     },
     "metadata": {},
     "output_type": "display_data"
    }
   ],
   "source": [
    "import matplotlib.pyplot as plt\n",
    "N = 8\n",
    "y = np.zeros(N)\n",
    "x1 = np.linspace(0,10,N)\n",
    "x2 = np.linspace(0,10,N,endpoint = False)\n",
    "plt.plot(x1,y,'o')\n",
    "plt.plot(x2, y+0.5, '+')\n",
    "plt.ylim([-0.5,1])\n",
    "plt.xlim([-5,10])\n",
    "plt.show()"
   ]
  },
  {
   "cell_type": "code",
   "execution_count": 8,
   "metadata": {
    "collapsed": true
   },
   "outputs": [],
   "source": [
    "x = np.linspace(-7,7,20)\n",
    "y = np.sin(x) * 0.5"
   ]
  },
  {
   "cell_type": "code",
   "execution_count": 9,
   "metadata": {
    "collapsed": false
   },
   "outputs": [
    {
     "data": {
      "text/plain": [
       "[<matplotlib.lines.Line2D at 0x1067286d0>]"
      ]
     },
     "execution_count": 9,
     "metadata": {},
     "output_type": "execute_result"
    },
    {
     "data": {
      "image/png": "[encoded data removed]",
      "text/plain": [
       "<matplotlib.figure.Figure at 0x1019ffb10>"
      ]
     },
     "metadata": {},
     "output_type": "display_data"
    }
   ],
   "source": [
    "plt.plot(x,y,'o')"
   ]
  },
  {
   "cell_type": "code",
   "execution_count": 10,
   "metadata": {
    "collapsed": true
   },
   "outputs": [],
   "source": [
    "size = len(x)"
   ]
  },
  {
   "cell_type": "code",
   "execution_count": 15,
   "metadata": {
    "collapsed": false
   },
   "outputs": [],
   "source": [
    "inp = x.reshape(size,1)\n",
    "tar =  y.reshape(size,1)"
   ]
  },
  {
   "cell_type": "code",
   "execution_count": 17,
   "metadata": {
    "collapsed": false
   },
   "outputs": [],
   "source": [
    "net = nl.net.newff([[-7,7]], [5,1])"
   ]
  },
  {
   "cell_type": "code",
   "execution_count": 18,
   "metadata": {
    "collapsed": false
   },
   "outputs": [
    {
     "name": "stdout",
     "output_type": "stream",
     "text": [
      "Help on function newff in module neurolab.net:\n",
      "\n",
      "newff(minmax, size, transf=None)\n",
      "    Create multilayer perceptron\n",
      "    \n",
      "    :Parameters:\n",
      "        minmax: list of list, the outer list is the number of input neurons, \n",
      "                        inner lists must contain 2 elements: min and max\n",
      "            Range of input value\n",
      "        size: the length of list equal to the number of layers except input layer, \n",
      "                        the element of the list is the neuron number for corresponding layer\n",
      "            Contains the number of neurons for each layer\n",
      "        transf: list (default TanSig)\n",
      "            List of activation function for each layer\n",
      "    :Returns:\n",
      "        net: Net\n",
      "    :Example:\n",
      "        >>> # create neural net with 2 inputs\n",
      "                >>> # input range for each input is [-0.5, 0.5]\n",
      "                >>> # 3 neurons for hidden layer, 1 neuron for output\n",
      "                >>> # 2 layers including hidden layer and output layer\n",
      "        >>> net = newff([[-0.5, 0.5], [-0.5, 0.5]], [3, 1])\n",
      "        >>> net.ci\n",
      "        2\n",
      "        >>> net.co\n",
      "        1\n",
      "        >>> len(net.layers)\n",
      "        2\n",
      "\n"
     ]
    }
   ],
   "source": [
    "help(nl.net.newff)"
   ]
  },
  {
   "cell_type": "code",
   "execution_count": 21,
   "metadata": {
    "collapsed": false
   },
   "outputs": [
    {
     "data": {
      "text/plain": [
       "['__class__',\n",
       " '__delattr__',\n",
       " '__dict__',\n",
       " '__doc__',\n",
       " '__format__',\n",
       " '__getattribute__',\n",
       " '__hash__',\n",
       " '__init__',\n",
       " '__module__',\n",
       " '__new__',\n",
       " '__reduce__',\n",
       " '__reduce_ex__',\n",
       " '__repr__',\n",
       " '__setattr__',\n",
       " '__sizeof__',\n",
       " '__str__',\n",
       " '__subclasshook__',\n",
       " '__weakref__',\n",
       " 'ci',\n",
       " 'co',\n",
       " 'connect',\n",
       " 'copy',\n",
       " 'errorf',\n",
       " 'init',\n",
       " 'inp',\n",
       " 'inp_minmax',\n",
       " 'layers',\n",
       " 'out',\n",
       " 'out_minmax',\n",
       " 'reset',\n",
       " 'save',\n",
       " 'sim',\n",
       " 'step',\n",
       " 'train',\n",
       " 'trainf']"
      ]
     },
     "execution_count": 21,
     "metadata": {},
     "output_type": "execute_result"
    }
   ],
   "source": [
    "dir(net)"
   ]
  },
  {
   "cell_type": "code",
   "execution_count": 32,
   "metadata": {
    "collapsed": false
   },
   "outputs": [
    {
     "name": "stdout",
     "output_type": "stream",
     "text": [
      "The goal of learning is reached\n"
     ]
    }
   ],
   "source": [
    "error = net.train(inp, tar, epochs = 500, show = 100, goal = 0.02)\n",
    "out = net.sim(inp)"
   ]
  },
  {
   "cell_type": "code",
   "execution_count": 25,
   "metadata": {
    "collapsed": false
   },
   "outputs": [
    {
     "data": {
      "text/plain": [
       "<matplotlib.text.Text at 0x1075e8910>"
      ]
     },
     "execution_count": 25,
     "metadata": {},
     "output_type": "execute_result"
    },
    {
     "data": {
      "image/png": "[encoded data removed]",
      "text/plain": [
       "<matplotlib.figure.Figure at 0x1075be810>"
      ]
     },
     "metadata": {},
     "output_type": "display_data"
    }
   ],
   "source": [
    "import pylab as pl\n",
    "pl.subplot(211)\n",
    "pl.plot(error)\n",
    "pl.xlabel('Epoch Number')\n",
    "pl.ylabel('error (default SSE)')"
   ]
  },
  {
   "cell_type": "code",
   "execution_count": 30,
   "metadata": {
    "collapsed": false
   },
   "outputs": [],
   "source": [
    "x2 = np.linspace(-6.0, 6.0, 150)\n",
    "y2 = net.sim(x2.reshape(x2.size,1)).reshape(x2.size)"
   ]
  },
  {
   "cell_type": "code",
   "execution_count": 33,
   "metadata": {
    "collapsed": false
   },
   "outputs": [],
   "source": [
    "y3 = out.reshape(size)"
   ]
  },
  {
   "cell_type": "code",
   "execution_count": 39,
   "metadata": {
    "collapsed": false
   },
   "outputs": [
    {
     "data": {
      "image/png": "[encoded data removed]",
      "text/plain": [
       "<matplotlib.figure.Figure at 0x107652810>"
      ]
     },
     "metadata": {},
     "output_type": "display_data"
    }
   ],
   "source": [
    "pl.subplot(212)\n",
    "pl.plot(x2,y2,'y-', x,y,'r.', x,y3,'+')\n",
    "pl.legend(['train target', 'net output'])\n",
    "pl.xlim([-10,10])\n",
    "pl.ylim([-1,1])\n",
    "pl.show()"
   ]
  },
  {
   "cell_type": "code",
   "execution_count": 40,
   "metadata": {
    "collapsed": true
   },
   "outputs": [],
   "source": [
    "# Now let's start with our biological response problem\n",
    "from numpy import genfromtxt, savetxt"
   ]
  },
  {
   "cell_type": "code",
   "execution_count": 41,
   "metadata": {
    "collapsed": true
   },
   "outputs": [],
   "source": [
    "#read in  data, parse into training and target sets\n",
    "dataset = np.genfromtxt(open('../train.csv','r'), delimiter=',', dtype='f8')[1:]    \n",
    "target = np.array([x[0] for x in dataset])\n",
    "train = np.array([x[1:] for x in dataset])"
   ]
  },
  {
   "cell_type": "code",
   "execution_count": 86,
   "metadata": {
    "collapsed": true
   },
   "outputs": [],
   "source": [
    "# first let us set the input ranges\n",
    "inpRange = [0,1]\n",
    "noOfHiddenUnits = 4\n",
    "\n",
    "# Initialising the neural net\n",
    "bionet = nl.net.newff([inpRange for i in range(1, train.shape[1]+1)], [noOfHiddenUnits, 1])"
   ]
  },
  {
   "cell_type": "code",
   "execution_count": 87,
   "metadata": {
    "collapsed": false
   },
   "outputs": [
    {
     "name": "stdout",
     "output_type": "stream",
     "text": [
      "Epoch: 1; Error: 746.631305126;\n",
      "Epoch: 2; Error: 530.232233131;\n",
      "Epoch: 3; Error: 511.662274719;\n",
      "Epoch: 4; Error: 488.375004313;\n",
      "Epoch: 5; Error: 473.541196099;\n",
      "Epoch: 6; Error: 467.308057175;\n",
      "Epoch: 7; Error: 461.354096512;\n",
      "Epoch: 8; Error: 457.881976914;\n",
      "Epoch: 9; Error: 451.050877012;\n",
      "Epoch: 10; Error: 450.431232663;\n",
      "Epoch: 11; Error: 447.101984874;\n",
      "Epoch: 12; Error: 441.965032313;\n",
      "Epoch: 13; Error: 433.58320312;\n",
      "Epoch: 14; Error: 419.784099751;\n",
      "Epoch: 15; Error: 412.415245872;\n",
      "Epoch: 16; Error: 403.668302126;\n",
      "Epoch: 17; Error: 390.31660447;\n",
      "Epoch: 18; Error: 371.310686303;\n",
      "Epoch: 19; Error: 360.229980756;\n",
      "Epoch: 20; Error: 347.926881083;\n",
      "Epoch: 21; Error: 342.210391488;\n",
      "Epoch: 22; Error: 334.470486669;\n",
      "Epoch: 23; Error: 327.453590022;\n",
      "Epoch: 24; Error: 321.653333365;\n",
      "Epoch: 25; Error: 315.46914555;\n",
      "Epoch: 26; Error: 309.749559651;\n",
      "Epoch: 27; Error: 306.876230227;\n",
      "Epoch: 28; Error: 302.924775342;\n",
      "Epoch: 29; Error: 297.465820664;\n",
      "Epoch: 30; Error: 291.374847;\n",
      "Epoch: 31; Error: 287.191372118;\n",
      "Epoch: 32; Error: 282.702460686;\n",
      "Epoch: 33; Error: 280.487518448;\n",
      "Epoch: 34; Error: 277.629617688;\n",
      "Epoch: 35; Error: 274.452385172;\n",
      "Epoch: 36; Error: 271.421249535;\n",
      "Epoch: 37; Error: 268.260136991;\n",
      "Epoch: 38; Error: 264.757148887;\n",
      "Epoch: 39; Error: 262.694297737;\n",
      "Epoch: 40; Error: 260.285378147;\n",
      "Epoch: 41; Error: 259.017427116;\n",
      "Epoch: 42; Error: 257.661193181;\n",
      "Epoch: 43; Error: 256.042449808;\n",
      "Epoch: 44; Error: 254.161894064;\n",
      "Epoch: 45; Error: 253.009898619;\n",
      "Epoch: 46; Error: 251.838226978;\n",
      "Epoch: 47; Error: 250.571072725;\n",
      "Epoch: 48; Error: 249.406513273;\n",
      "Epoch: 49; Error: 248.400976089;\n",
      "Epoch: 50; Error: 247.541271257;\n",
      "Epoch: 51; Error: 246.592481287;\n",
      "Epoch: 52; Error: 245.804876186;\n",
      "Epoch: 53; Error: 244.626457541;\n",
      "Epoch: 54; Error: 243.20263113;\n",
      "Epoch: 55; Error: 242.277010922;\n",
      "Epoch: 56; Error: 241.232994627;\n",
      "Epoch: 57; Error: 240.572192284;\n",
      "Epoch: 58; Error: 239.8545741;\n",
      "Epoch: 59; Error: 239.163416804;\n",
      "Epoch: 60; Error: 238.415063444;\n",
      "Epoch: 61; Error: 237.463196744;\n",
      "Epoch: 62; Error: 236.509853643;\n",
      "Epoch: 63; Error: 235.457449181;\n",
      "Epoch: 64; Error: 234.96775964;\n",
      "Epoch: 65; Error: 234.452168666;\n",
      "Epoch: 66; Error: 233.890772096;\n",
      "Epoch: 67; Error: 233.586971265;\n",
      "Epoch: 68; Error: 233.045887064;\n",
      "Epoch: 69; Error: 232.960540697;\n",
      "Epoch: 70; Error: 232.802250854;\n",
      "Epoch: 71; Error: 232.535306064;\n",
      "Epoch: 72; Error: 232.108779983;\n",
      "Epoch: 73; Error: 231.33425324;\n",
      "Epoch: 74; Error: 231.029297484;\n",
      "Epoch: 75; Error: 230.613332916;\n",
      "Epoch: 76; Error: 230.33128911;\n",
      "Epoch: 77; Error: 230.13664865;\n",
      "Epoch: 78; Error: 229.902298801;\n",
      "Epoch: 79; Error: 229.319494878;\n",
      "Epoch: 80; Error: 228.9978731;\n",
      "Epoch: 81; Error: 228.753572808;\n",
      "Epoch: 82; Error: 228.55053134;\n",
      "Epoch: 83; Error: 228.366355163;\n",
      "Epoch: 84; Error: 228.177530153;\n",
      "Epoch: 85; Error: 227.917612428;\n",
      "Epoch: 86; Error: 227.673761327;\n",
      "Epoch: 87; Error: 227.413133373;\n",
      "Epoch: 88; Error: 227.106692043;\n",
      "Epoch: 89; Error: 226.707534061;\n",
      "Epoch: 90; Error: 226.252121148;\n",
      "Epoch: 91; Error: 225.959105081;\n",
      "Epoch: 92; Error: 225.451408198;\n",
      "Epoch: 93; Error: 225.143800689;\n",
      "Epoch: 94; Error: 224.922088552;\n",
      "Epoch: 95; Error: 224.748247995;\n",
      "Epoch: 96; Error: 224.189746243;\n",
      "Epoch: 97; Error: 224.13515052;\n",
      "Epoch: 98; Error: 224.054982113;\n",
      "Epoch: 99; Error: 223.674070966;\n",
      "Epoch: 100; Error: 223.43609951;\n",
      "The maximum number of train epochs is reached\n"
     ]
    }
   ],
   "source": [
    "# Train Network\n",
    "error = bionet.train(train , target.reshape(target.shape[0],1), epochs = 100, show = 1, goal = 0.02)"
   ]
  },
  {
   "cell_type": "code",
   "execution_count": 80,
   "metadata": {
    "collapsed": false
   },
   "outputs": [
    {
     "data": {
      "text/plain": [
       "(3751, 1776)"
      ]
     },
     "execution_count": 80,
     "metadata": {},
     "output_type": "execute_result"
    }
   ],
   "source": [
    "a = [1,2]\n",
    "b = [a for i in range(1,10)]\n",
    "#print b\n",
    "train.shape[0]\n",
    "len([inpRange for i in range(1, target.shape[0]+1)])\n",
    "bionet.ci\n",
    "train.shape\n",
    "target.reshape(3751,1).shape\n",
    "train.shape"
   ]
  },
  {
   "cell_type": "code",
   "execution_count": 88,
   "metadata": {
    "collapsed": true
   },
   "outputs": [],
   "source": [
    "# Reading the test set\n",
    "test = genfromtxt(open('../test.csv','r'), delimiter=',', dtype='f8')[1:]"
   ]
  },
  {
   "cell_type": "code",
   "execution_count": 100,
   "metadata": {
    "collapsed": false
   },
   "outputs": [],
   "source": [
    "out = bionet.sim(test)"
   ]
  },
  {
   "cell_type": "code",
   "execution_count": 91,
   "metadata": {
    "collapsed": false
   },
   "outputs": [
    {
     "data": {
      "text/plain": [
       "[<matplotlib.lines.Line2D at 0x105fa5890>]"
      ]
     },
     "execution_count": 91,
     "metadata": {},
     "output_type": "execute_result"
    },
    {
     "data": {
      "image/png": "[encoded data removed]",
      "text/plain": [
       "<matplotlib.figure.Figure at 0x1060c9d90>"
      ]
     },
     "metadata": {},
     "output_type": "display_data"
    }
   ],
   "source": [
    "pl.plot(error)"
   ]
  },
  {
   "cell_type": "code",
   "execution_count": 101,
   "metadata": {
    "collapsed": true
   },
   "outputs": [],
   "source": [
    "out = out.reshape(out.shape[0])"
   ]
  },
  {
   "cell_type": "code",
   "execution_count": 104,
   "metadata": {
    "collapsed": false
   },
   "outputs": [],
   "source": [
    "out = out.tolist()"
   ]
  },
  {
   "cell_type": "code",
   "execution_count": 105,
   "metadata": {
    "collapsed": true
   },
   "outputs": [],
   "source": [
    "# Predicting the output\n",
    "predicted_probs = [[index + 1, x] for index, x in enumerate(out)]"
   ]
  },
  {
   "cell_type": "code",
   "execution_count": 106,
   "metadata": {
    "collapsed": true
   },
   "outputs": [],
   "source": [
    "# saving the output\n",
    "savetxt('submission.csv', predicted_probs, delimiter=',', fmt='%d,%f',\n",
    "       header = 'MoleculeId,PredictedProbability', comments = '')"
   ]
  }
 ],
 "metadata": {
  "kernelspec": {
   "display_name": "Python 2",
   "language": "python",
   "name": "python2"
  },
  "language_info": {
   "codemirror_mode": {
    "name": "ipython",
    "version": 2
   },
   "file_extension": ".py",
   "mimetype": "text/x-python",
   "name": "python",
   "nbconvert_exporter": "python",
   "pygments_lexer": "ipython2",
   "version": "2.7.8"
  }
 },
 "nbformat": 4,
 "nbformat_minor": 0
}
